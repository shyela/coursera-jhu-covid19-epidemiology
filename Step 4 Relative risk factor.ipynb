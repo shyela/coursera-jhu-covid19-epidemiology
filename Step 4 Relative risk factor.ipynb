{
 "cells": [
  {
   "cell_type": "code",
   "execution_count": 69,
   "metadata": {},
   "outputs": [
    {
     "name": "stdout",
     "output_type": "stream",
     "text": [
      "attack_rate_unexposed: 0.17\n",
      "             Cases  Non-cases  Total  attack_rate_exposed  relative_risk\n",
      "Lion             2         19     21                 0.10           0.59\n",
      "Lemur            1         18     19                 0.05           0.29\n",
      "Prairie dog      8         25     33                 0.24           1.41\n",
      "Capybara         7          4     11                 0.64           3.76\n",
      "None             2         12     12                 0.17           1.00\n",
      "max_relative_risk_value: 3.76\n",
      "max_relative_risk_animal: Capybara\n"
     ]
    }
   ],
   "source": [
    "import pandas as pd\n",
    "\n",
    "total_children = 48\n",
    "total_cases = 10\n",
    "\n",
    "data = {'Cases': [2, 1, 8, 7, 2], \n",
    "        'Non-cases': [19, 18, 25, 4, 12], \n",
    "        'Total': [21, 19, 33, 11, 12]}\n",
    "# 'Exhibit visited' are the indexes.\n",
    "indexes = ['Lion', 'Lemur', 'Prairie dog', 'Capybara', 'None']\n",
    "df = pd.DataFrame(data=data, index=indexes)\n",
    "# print(df)\n",
    "\n",
    "# Relative Risk = attack rate exposed / attack rate unexposed\n",
    "\n",
    "unexposed_cases = df['Cases']['None']\n",
    "total_unexposed = df['Total']['None']\n",
    "attack_rate_unexposed = round(unexposed_cases / total_unexposed, 2)\n",
    "print('attack_rate_unexposed: ' + str(attack_rate_unexposed))\n",
    "\n",
    "df['attack_rate_exposed'] = (df['Cases'] / df['Total']).round(2)\n",
    "df['relative_risk'] = (df['attack_rate_exposed'] / attack_rate_unexposed).round(2)\n",
    "\n",
    "print(df)\n",
    "\n",
    "max_relative_risk_value = df['relative_risk'].max()\n",
    "print('max_relative_risk_value: ' + str(max_relative_risk_value))\n",
    "\n",
    "max_relative_risk_row = df[df['relative_risk'] == max_relative_risk_value]\n",
    "max_relative_risk_animal = max_relative_risk_row.index[0]\n",
    "print('max_relative_risk_animal: ' + str(max_relative_risk_animal))\n"
   ]
  }
 ],
 "metadata": {
  "kernelspec": {
   "display_name": "Python 3",
   "language": "python",
   "name": "python3"
  },
  "language_info": {
   "codemirror_mode": {
    "name": "ipython",
    "version": 3
   },
   "file_extension": ".py",
   "mimetype": "text/x-python",
   "name": "python",
   "nbconvert_exporter": "python",
   "pygments_lexer": "ipython3",
   "version": "3.7.3"
  }
 },
 "nbformat": 4,
 "nbformat_minor": 2
}
