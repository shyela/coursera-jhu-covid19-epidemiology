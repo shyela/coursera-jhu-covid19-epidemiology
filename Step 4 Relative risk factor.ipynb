{
 "cells": [
  {
   "cell_type": "code",
   "execution_count": 55,
   "metadata": {},
   "outputs": [
    {
     "name": "stdout",
     "output_type": "stream",
     "text": [
      "max_relative_risk_value: 7.848484848484848\n",
      "max_relative_risk_animal: Capybara\n"
     ]
    }
   ],
   "source": [
    "import pandas as pd\n",
    "\n",
    "total_children = 48\n",
    "total_cases = 10\n",
    "\n",
    "data = {'Cases': [1, 1, 8, 7, 2], \n",
    "        'Non-cases': [19, 18, 25, 4, 12], \n",
    "        'Total': [21, 19, 33, 11, 12]}\n",
    "# 'Exhibit visited' are the indexes.\n",
    "indexes = ['Lion', 'Lemur', 'Prairie dog', 'Capybara', 'None']\n",
    "df = pd.DataFrame(data=data, index=indexes)\n",
    "# print(df)\n",
    "\n",
    "# Relative Risk = attack rate exposed / attack rate unexposed\n",
    "\n",
    "# Any Animal Relative Risk = risk of getting the disease from any animal vs from no animal\n",
    "# This has a different approach than the per-animal calculations, because it doesn't matter\n",
    "# if a child was exposed to one or more than one animal.\n",
    "unexposed_cases = df['Cases']['None']\n",
    "total_unexposed = df['Total']['None']\n",
    "attack_rate_unexposed = unexposed_cases / total_unexposed\n",
    "# print('attack_rate_unexposed: ' + str(attack_rate_unexposed)) \n",
    "\n",
    "exposed_cases = total_cases - unexposed_cases\n",
    "total_exposed = total_children - total_unexposed\n",
    "attack_rate_exposed = exposed_cases / total_exposed\n",
    "# print('attack_rate_exposed: ' + str(attack_rate_exposed))\n",
    "\n",
    "any_animal_relative_risk = attack_rate_exposed / attack_rate_unexposed\n",
    "# print('any_animal_relative_risk: ' + str(any_animal_relative_risk))\n",
    "\n",
    "\n",
    "\n",
    "df['attack_rate_exposed'] = df['Cases'] / df['Total']\n",
    "unexposed_cases = total_cases - df['Cases']\n",
    "total_unexposed = total_children - df['Total']\n",
    "df['attack_rate_unexposed'] = unexposed_cases / total_unexposed\n",
    "df['relative_risk'] = df['attack_rate_exposed'] / df['attack_rate_unexposed']\n",
    "\n",
    "max_relative_risk_value = df['relative_risk'].max()\n",
    "print('max_relative_risk_value: ' + str(max_relative_risk_value))\n",
    "\n",
    "max_relative_risk_row = df[df['relative_risk'] == max_relative_risk_value]\n",
    "max_relative_risk_animal = max_relative_risk_row.index[0]\n",
    "print('max_relative_risk_animal: ' + str(max_relative_risk_animal))\n"
   ]
  }
 ],
 "metadata": {
  "kernelspec": {
   "display_name": "Python 3",
   "language": "python",
   "name": "python3"
  },
  "language_info": {
   "codemirror_mode": {
    "name": "ipython",
    "version": 3
   },
   "file_extension": ".py",
   "mimetype": "text/x-python",
   "name": "python",
   "nbconvert_exporter": "python",
   "pygments_lexer": "ipython3",
   "version": "3.7.3"
  }
 },
 "nbformat": 4,
 "nbformat_minor": 2
}
